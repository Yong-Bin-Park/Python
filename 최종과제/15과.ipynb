{
 "cells": [
  {
   "cell_type": "code",
   "execution_count": 1,
   "metadata": {},
   "outputs": [
    {
     "name": "stdout",
     "output_type": "stream",
     "text": [
      "   RowID Distillery  Body  Sweetness  Smoky  Medicinal  Tobacco  Honey  Spicy  \\\n",
      "0      1  Aberfeldy     2          2      2          0        0      2      1   \n",
      "1      2   Aberlour     3          3      1          0        0      4      3   \n",
      "2      3     AnCnoc     1          3      2          0        0      2      0   \n",
      "3      4     Ardbeg     4          1      4          4        0      0      2   \n",
      "4      5    Ardmore     2          2      2          0        0      1      1   \n",
      "\n",
      "   Winey  Nutty  Malty  Fruity  Floral     Postcode  Latitude  Longitude  \n",
      "0      2      2      2       2       2   \\tPH15 2EB    286580     749680  \n",
      "1      2      2      3       3       2   \\tAB38 9PJ    326340     842570  \n",
      "2      0      2      2       3       2    \\tAB5 5LI    352960     839320  \n",
      "3      0      1      2       1       0   \\tPA42 7EB    141560     646220  \n",
      "4      1      2      3       1       1   \\tAB54 4NH    355350     829140  \n"
     ]
    }
   ],
   "source": [
    "import numpy as np\n",
    "import pandas as pd\n",
    "whisky = pd.read_csv(\"whiskies.txt\")\n",
    "print(whisky.head())"
   ]
  },
  {
   "cell_type": "code",
   "execution_count": 2,
   "metadata": {},
   "outputs": [
    {
     "name": "stdout",
     "output_type": "stream",
     "text": [
      "   RowID Distillery  Body  Sweetness  Smoky  Medicinal  Tobacco  Honey  Spicy  \\\n",
      "0      1  Aberfeldy     2          2      2          0        0      2      1   \n",
      "1      2   Aberlour     3          3      1          0        0      4      3   \n",
      "2      3     AnCnoc     1          3      2          0        0      2      0   \n",
      "3      4     Ardbeg     4          1      4          4        0      0      2   \n",
      "4      5    Ardmore     2          2      2          0        0      1      1   \n",
      "\n",
      "   Winey  Nutty  Malty  Fruity  Floral     Postcode  Latitude  Longitude  \\\n",
      "0      2      2      2       2       2   \\tPH15 2EB    286580     749680   \n",
      "1      2      2      3       3       2   \\tAB38 9PJ    326340     842570   \n",
      "2      0      2      2       3       2    \\tAB5 5LI    352960     839320   \n",
      "3      0      1      2       1       0   \\tPA42 7EB    141560     646220   \n",
      "4      1      2      3       1       1   \\tAB54 4NH    355350     829140   \n",
      "\n",
      "      Region  \n",
      "0  Highlands  \n",
      "1   Speyside  \n",
      "2  Highlands  \n",
      "3      Islay  \n",
      "4  Highlands  \n"
     ]
    }
   ],
   "source": [
    "import numpy as np\n",
    "import pandas as pd\n",
    "whisky = pd.read_csv(\"whiskies.txt\")\n",
    "whisky[\"Region\"] = pd.read_csv(\"regions.txt\")\n",
    "print(whisky.head())"
   ]
  },
  {
   "cell_type": "code",
   "execution_count": 3,
   "metadata": {},
   "outputs": [
    {
     "data": {
      "text/plain": [
       "Index(['RowID', 'Distillery', 'Body', 'Sweetness', 'Smoky', 'Medicinal',\n",
       "       'Tobacco', 'Honey', 'Spicy', 'Winey', 'Nutty', 'Malty', 'Fruity',\n",
       "       'Floral', 'Postcode', 'Latitude', 'Longitude', 'Region'],\n",
       "      dtype='object')"
      ]
     },
     "execution_count": 3,
     "metadata": {},
     "output_type": "execute_result"
    }
   ],
   "source": [
    "whisky.columns"
   ]
  },
  {
   "cell_type": "code",
   "execution_count": 4,
   "metadata": {},
   "outputs": [
    {
     "name": "stdout",
     "output_type": "stream",
     "text": [
      "0     Highlands\n",
      "1      Speyside\n",
      "2     Highlands\n",
      "3         Islay\n",
      "4     Highlands\n",
      "        ...    \n",
      "81      Islands\n",
      "82    Highlands\n",
      "83     Speyside\n",
      "84     Speyside\n",
      "85    Highlands\n",
      "Name: Region, Length: 86, dtype: object\n"
     ]
    }
   ],
   "source": [
    "print(whisky[\"Region\"])"
   ]
  },
  {
   "cell_type": "code",
   "execution_count": 40,
   "metadata": {},
   "outputs": [
    {
     "name": "stdout",
     "output_type": "stream",
     "text": [
      "['Highlands' 'Speyside' 'Islay' 'Islands' 'Lowlands' 'Campbelltown']\n"
     ]
    }
   ],
   "source": [
    "print(pd.unique(whisky.loc[:,'Region']))"
   ]
  },
  {
   "cell_type": "code",
   "execution_count": 15,
   "metadata": {},
   "outputs": [
    {
     "data": {
      "text/html": [
       "<div>\n",
       "<style scoped>\n",
       "    .dataframe tbody tr th:only-of-type {\n",
       "        vertical-align: middle;\n",
       "    }\n",
       "\n",
       "    .dataframe tbody tr th {\n",
       "        vertical-align: top;\n",
       "    }\n",
       "\n",
       "    .dataframe thead th {\n",
       "        text-align: right;\n",
       "    }\n",
       "</style>\n",
       "<table border=\"1\" class=\"dataframe\">\n",
       "  <thead>\n",
       "    <tr style=\"text-align: right;\">\n",
       "      <th></th>\n",
       "      <th>RowID</th>\n",
       "      <th>Distillery</th>\n",
       "      <th>Body</th>\n",
       "      <th>Sweetness</th>\n",
       "      <th>Smoky</th>\n",
       "      <th>Medicinal</th>\n",
       "      <th>Tobacco</th>\n",
       "      <th>Honey</th>\n",
       "      <th>Spicy</th>\n",
       "      <th>Winey</th>\n",
       "      <th>Nutty</th>\n",
       "      <th>Malty</th>\n",
       "      <th>Fruity</th>\n",
       "      <th>Floral</th>\n",
       "      <th>Postcode</th>\n",
       "      <th>Latitude</th>\n",
       "      <th>Longitude</th>\n",
       "      <th>Region</th>\n",
       "    </tr>\n",
       "  </thead>\n",
       "  <tbody>\n",
       "    <tr>\n",
       "      <th>0</th>\n",
       "      <td>1</td>\n",
       "      <td>Aberfeldy</td>\n",
       "      <td>2</td>\n",
       "      <td>2</td>\n",
       "      <td>2</td>\n",
       "      <td>0</td>\n",
       "      <td>0</td>\n",
       "      <td>2</td>\n",
       "      <td>1</td>\n",
       "      <td>2</td>\n",
       "      <td>2</td>\n",
       "      <td>2</td>\n",
       "      <td>2</td>\n",
       "      <td>2</td>\n",
       "      <td>\\tPH15 2EB</td>\n",
       "      <td>286580</td>\n",
       "      <td>749680</td>\n",
       "      <td>Highlands</td>\n",
       "    </tr>\n",
       "    <tr>\n",
       "      <th>1</th>\n",
       "      <td>2</td>\n",
       "      <td>Aberlour</td>\n",
       "      <td>3</td>\n",
       "      <td>3</td>\n",
       "      <td>1</td>\n",
       "      <td>0</td>\n",
       "      <td>0</td>\n",
       "      <td>4</td>\n",
       "      <td>3</td>\n",
       "      <td>2</td>\n",
       "      <td>2</td>\n",
       "      <td>3</td>\n",
       "      <td>3</td>\n",
       "      <td>2</td>\n",
       "      <td>\\tAB38 9PJ</td>\n",
       "      <td>326340</td>\n",
       "      <td>842570</td>\n",
       "      <td>Speyside</td>\n",
       "    </tr>\n",
       "    <tr>\n",
       "      <th>2</th>\n",
       "      <td>3</td>\n",
       "      <td>AnCnoc</td>\n",
       "      <td>1</td>\n",
       "      <td>3</td>\n",
       "      <td>2</td>\n",
       "      <td>0</td>\n",
       "      <td>0</td>\n",
       "      <td>2</td>\n",
       "      <td>0</td>\n",
       "      <td>0</td>\n",
       "      <td>2</td>\n",
       "      <td>2</td>\n",
       "      <td>3</td>\n",
       "      <td>2</td>\n",
       "      <td>\\tAB5 5LI</td>\n",
       "      <td>352960</td>\n",
       "      <td>839320</td>\n",
       "      <td>Highlands</td>\n",
       "    </tr>\n",
       "  </tbody>\n",
       "</table>\n",
       "</div>"
      ],
      "text/plain": [
       "   RowID Distillery  Body  Sweetness  Smoky  Medicinal  Tobacco  Honey  Spicy  \\\n",
       "0      1  Aberfeldy     2          2      2          0        0      2      1   \n",
       "1      2   Aberlour     3          3      1          0        0      4      3   \n",
       "2      3     AnCnoc     1          3      2          0        0      2      0   \n",
       "\n",
       "   Winey  Nutty  Malty  Fruity  Floral     Postcode  Latitude  Longitude  \\\n",
       "0      2      2      2       2       2   \\tPH15 2EB    286580     749680   \n",
       "1      2      2      3       3       2   \\tAB38 9PJ    326340     842570   \n",
       "2      0      2      2       3       2    \\tAB5 5LI    352960     839320   \n",
       "\n",
       "      Region  \n",
       "0  Highlands  \n",
       "1   Speyside  \n",
       "2  Highlands  "
      ]
     },
     "execution_count": 15,
     "metadata": {},
     "output_type": "execute_result"
    }
   ],
   "source": [
    "whisky.iloc[0:3]"
   ]
  },
  {
   "cell_type": "code",
   "execution_count": 16,
   "metadata": {},
   "outputs": [
    {
     "data": {
      "text/html": [
       "<div>\n",
       "<style scoped>\n",
       "    .dataframe tbody tr th:only-of-type {\n",
       "        vertical-align: middle;\n",
       "    }\n",
       "\n",
       "    .dataframe tbody tr th {\n",
       "        vertical-align: top;\n",
       "    }\n",
       "\n",
       "    .dataframe thead th {\n",
       "        text-align: right;\n",
       "    }\n",
       "</style>\n",
       "<table border=\"1\" class=\"dataframe\">\n",
       "  <thead>\n",
       "    <tr style=\"text-align: right;\">\n",
       "      <th></th>\n",
       "      <th>Body</th>\n",
       "      <th>Sweetness</th>\n",
       "      <th>Smoky</th>\n",
       "      <th>Medicinal</th>\n",
       "      <th>Tobacco</th>\n",
       "      <th>Honey</th>\n",
       "      <th>Spicy</th>\n",
       "      <th>Winey</th>\n",
       "      <th>Nutty</th>\n",
       "      <th>Malty</th>\n",
       "      <th>Fruity</th>\n",
       "      <th>Floral</th>\n",
       "    </tr>\n",
       "  </thead>\n",
       "  <tbody>\n",
       "    <tr>\n",
       "      <th>0</th>\n",
       "      <td>2</td>\n",
       "      <td>2</td>\n",
       "      <td>2</td>\n",
       "      <td>0</td>\n",
       "      <td>0</td>\n",
       "      <td>2</td>\n",
       "      <td>1</td>\n",
       "      <td>2</td>\n",
       "      <td>2</td>\n",
       "      <td>2</td>\n",
       "      <td>2</td>\n",
       "      <td>2</td>\n",
       "    </tr>\n",
       "    <tr>\n",
       "      <th>1</th>\n",
       "      <td>3</td>\n",
       "      <td>3</td>\n",
       "      <td>1</td>\n",
       "      <td>0</td>\n",
       "      <td>0</td>\n",
       "      <td>4</td>\n",
       "      <td>3</td>\n",
       "      <td>2</td>\n",
       "      <td>2</td>\n",
       "      <td>3</td>\n",
       "      <td>3</td>\n",
       "      <td>2</td>\n",
       "    </tr>\n",
       "    <tr>\n",
       "      <th>2</th>\n",
       "      <td>1</td>\n",
       "      <td>3</td>\n",
       "      <td>2</td>\n",
       "      <td>0</td>\n",
       "      <td>0</td>\n",
       "      <td>2</td>\n",
       "      <td>0</td>\n",
       "      <td>0</td>\n",
       "      <td>2</td>\n",
       "      <td>2</td>\n",
       "      <td>3</td>\n",
       "      <td>2</td>\n",
       "    </tr>\n",
       "  </tbody>\n",
       "</table>\n",
       "</div>"
      ],
      "text/plain": [
       "   Body  Sweetness  Smoky  Medicinal  Tobacco  Honey  Spicy  Winey  Nutty  \\\n",
       "0     2          2      2          0        0      2      1      2      2   \n",
       "1     3          3      1          0        0      4      3      2      2   \n",
       "2     1          3      2          0        0      2      0      0      2   \n",
       "\n",
       "   Malty  Fruity  Floral  \n",
       "0      2       2       2  \n",
       "1      3       3       2  \n",
       "2      2       3       2  "
      ]
     },
     "execution_count": 16,
     "metadata": {},
     "output_type": "execute_result"
    }
   ],
   "source": [
    "whisky.iloc[0:3,2:14]"
   ]
  },
  {
   "cell_type": "code",
   "execution_count": 24,
   "metadata": {},
   "outputs": [
    {
     "data": {
      "text/html": [
       "<div>\n",
       "<style scoped>\n",
       "    .dataframe tbody tr th:only-of-type {\n",
       "        vertical-align: middle;\n",
       "    }\n",
       "\n",
       "    .dataframe tbody tr th {\n",
       "        vertical-align: top;\n",
       "    }\n",
       "\n",
       "    .dataframe thead th {\n",
       "        text-align: right;\n",
       "    }\n",
       "</style>\n",
       "<table border=\"1\" class=\"dataframe\">\n",
       "  <thead>\n",
       "    <tr style=\"text-align: right;\">\n",
       "      <th></th>\n",
       "      <th>Body</th>\n",
       "      <th>Sweetness</th>\n",
       "      <th>Smoky</th>\n",
       "      <th>Medicinal</th>\n",
       "      <th>Tobacco</th>\n",
       "      <th>Honey</th>\n",
       "      <th>Spicy</th>\n",
       "      <th>Winey</th>\n",
       "      <th>Nutty</th>\n",
       "      <th>Malty</th>\n",
       "      <th>Fruity</th>\n",
       "      <th>Floral</th>\n",
       "    </tr>\n",
       "  </thead>\n",
       "  <tbody>\n",
       "    <tr>\n",
       "      <th>83</th>\n",
       "      <td>0</td>\n",
       "      <td>3</td>\n",
       "      <td>1</td>\n",
       "      <td>0</td>\n",
       "      <td>0</td>\n",
       "      <td>2</td>\n",
       "      <td>2</td>\n",
       "      <td>1</td>\n",
       "      <td>1</td>\n",
       "      <td>2</td>\n",
       "      <td>1</td>\n",
       "      <td>2</td>\n",
       "    </tr>\n",
       "    <tr>\n",
       "      <th>84</th>\n",
       "      <td>2</td>\n",
       "      <td>2</td>\n",
       "      <td>1</td>\n",
       "      <td>0</td>\n",
       "      <td>0</td>\n",
       "      <td>1</td>\n",
       "      <td>0</td>\n",
       "      <td>1</td>\n",
       "      <td>2</td>\n",
       "      <td>1</td>\n",
       "      <td>0</td>\n",
       "      <td>0</td>\n",
       "    </tr>\n",
       "    <tr>\n",
       "      <th>85</th>\n",
       "      <td>2</td>\n",
       "      <td>3</td>\n",
       "      <td>0</td>\n",
       "      <td>0</td>\n",
       "      <td>1</td>\n",
       "      <td>0</td>\n",
       "      <td>2</td>\n",
       "      <td>1</td>\n",
       "      <td>1</td>\n",
       "      <td>2</td>\n",
       "      <td>2</td>\n",
       "      <td>1</td>\n",
       "    </tr>\n",
       "  </tbody>\n",
       "</table>\n",
       "</div>"
      ],
      "text/plain": [
       "    Body  Sweetness  Smoky  Medicinal  Tobacco  Honey  Spicy  Winey  Nutty  \\\n",
       "83     0          3      1          0        0      2      2      1      1   \n",
       "84     2          2      1          0        0      1      0      1      2   \n",
       "85     2          3      0          0        1      0      2      1      1   \n",
       "\n",
       "    Malty  Fruity  Floral  \n",
       "83      2       1       2  \n",
       "84      1       0       0  \n",
       "85      2       2       1  "
      ]
     },
     "execution_count": 24,
     "metadata": {},
     "output_type": "execute_result"
    }
   ],
   "source": [
    "whisky.iloc[-3:,2:14]"
   ]
  },
  {
   "cell_type": "code",
   "execution_count": 25,
   "metadata": {},
   "outputs": [
    {
     "name": "stdout",
     "output_type": "stream",
     "text": [
      "    Body  Sweetness  Smoky  Medicinal  Tobacco  Honey  Spicy  Winey  Nutty  \\\n",
      "0      2          2      2          0        0      2      1      2      2   \n",
      "1      3          3      1          0        0      4      3      2      2   \n",
      "2      1          3      2          0        0      2      0      0      2   \n",
      "3      4          1      4          4        0      0      2      0      1   \n",
      "4      2          2      2          0        0      1      1      1      2   \n",
      "..   ...        ...    ...        ...      ...    ...    ...    ...    ...   \n",
      "81     1          1      1          0        0      1      0      0      1   \n",
      "82     2          3      2          0        0      2      2      1      1   \n",
      "83     0          3      1          0        0      2      2      1      1   \n",
      "84     2          2      1          0        0      1      0      1      2   \n",
      "85     2          3      0          0        1      0      2      1      1   \n",
      "\n",
      "    Malty  Fruity  Floral  \n",
      "0       2       2       2  \n",
      "1       3       3       2  \n",
      "2       2       3       2  \n",
      "3       2       1       0  \n",
      "4       3       1       1  \n",
      "..    ...     ...     ...  \n",
      "81      2       2       2  \n",
      "82      2       0       1  \n",
      "83      2       1       2  \n",
      "84      1       0       0  \n",
      "85      2       2       1  \n",
      "\n",
      "[86 rows x 12 columns]\n"
     ]
    }
   ],
   "source": [
    "flavors = whisky.iloc[:,2:14]\n",
    "print(flavors)"
   ]
  },
  {
   "cell_type": "code",
   "execution_count": 26,
   "metadata": {},
   "outputs": [
    {
     "name": "stdout",
     "output_type": "stream",
     "text": [
      "               Body  Sweetness     Smoky  Medicinal   Tobacco     Honey  \\\n",
      "Body       1.000000  -0.136518  0.524032   0.354050  0.168718  0.082031   \n",
      "Sweetness -0.136518   1.000000 -0.405897  -0.392017 -0.147871  0.132558   \n",
      "Smoky      0.524032  -0.405897  1.000000   0.686071  0.365501 -0.195318   \n",
      "Medicinal  0.354050  -0.392017  0.686071   1.000000  0.425106 -0.396629   \n",
      "Tobacco    0.168718  -0.147871  0.365501   0.425106  1.000000 -0.275490   \n",
      "Honey      0.082031   0.132558 -0.195318  -0.396629 -0.275490  1.000000   \n",
      "Spicy      0.188500  -0.054200  0.231745   0.044903  0.054068  0.139563   \n",
      "Winey      0.408576   0.115727 -0.028190  -0.202651  0.009097  0.362021   \n",
      "Nutty      0.126323  -0.032493 -0.023132  -0.113671 -0.117717  0.188492   \n",
      "Malty     -0.116859  -0.001516 -0.192875  -0.258959 -0.059347  0.310184   \n",
      "Fruity    -0.013205   0.019820 -0.312970  -0.330975 -0.235145  0.108822   \n",
      "Floral    -0.461203   0.144987 -0.431663  -0.511323 -0.212375  0.183029   \n",
      "\n",
      "              Spicy     Winey     Nutty     Malty    Fruity    Floral  \n",
      "Body       0.188500  0.408576  0.126323 -0.116859 -0.013205 -0.461203  \n",
      "Sweetness -0.054200  0.115727 -0.032493 -0.001516  0.019820  0.144987  \n",
      "Smoky      0.231745 -0.028190 -0.023132 -0.192875 -0.312970 -0.431663  \n",
      "Medicinal  0.044903 -0.202651 -0.113671 -0.258959 -0.330975 -0.511323  \n",
      "Tobacco    0.054068  0.009097 -0.117717 -0.059347 -0.235145 -0.212375  \n",
      "Honey      0.139563  0.362021  0.188492  0.310184  0.108822  0.183029  \n",
      "Spicy      1.000000  0.092704 -0.042856  0.036303  0.144714  0.034663  \n",
      "Winey      0.092704  1.000000  0.198467  0.112368  0.090694 -0.126932  \n",
      "Nutty     -0.042856  0.198467  1.000000  0.066157  0.071765  0.018302  \n",
      "Malty      0.036303  0.112368  0.066157  1.000000  0.207288  0.106309  \n",
      "Fruity     0.144714  0.090694  0.071765  0.207288  1.000000  0.262336  \n",
      "Floral     0.034663 -0.126932  0.018302  0.106309  0.262336  1.000000  \n"
     ]
    }
   ],
   "source": [
    "corr_flavors = pd.DataFrame.corr(flavors)\n",
    "print(corr_flavors)"
   ]
  },
  {
   "cell_type": "code",
   "execution_count": 27,
   "metadata": {},
   "outputs": [
    {
     "data": {
      "image/png": "[encoded data removed]",
      "text/plain": [
       "<Figure size 432x288 with 2 Axes>"
      ]
     },
     "metadata": {
      "needs_background": "light"
     },
     "output_type": "display_data"
    }
   ],
   "source": [
    "import matplotlib.pyplot as plt\n",
    "plt.pcolor(corr_flavors)\n",
    "plt.colorbar()\n",
    "plt.savefig(\"whiskey1\")"
   ]
  },
  {
   "cell_type": "code",
   "execution_count": 28,
   "metadata": {},
   "outputs": [
    {
     "name": "stdout",
     "output_type": "stream",
     "text": [
      "          0         1         2         3         4         5         6   \\\n",
      "0   1.000000  0.708632  0.697354 -0.147311  0.731902  0.389086  0.464312   \n",
      "1   0.708632  1.000000  0.503074 -0.228591  0.511834  0.400983  0.460830   \n",
      "2   0.697354  0.503074  1.000000 -0.140435  0.557020  0.389627  0.730465   \n",
      "3  -0.147311 -0.228591 -0.140435  1.000000  0.231617  0.123130 -0.430674   \n",
      "4   0.731902  0.511834  0.557020  0.231617  1.000000  0.286251  0.286065   \n",
      "..       ...       ...       ...       ...       ...       ...       ...   \n",
      "81  0.662651  0.467396  0.828621 -0.100172  0.559690  0.297537  0.784527   \n",
      "82  0.543305  0.607054  0.343536  0.151838  0.693375  0.589768  0.025786   \n",
      "83  0.504753  0.631655  0.545891 -0.392074  0.424397  0.507630  0.591849   \n",
      "84  0.572186  0.372342  0.358457  0.145517  0.695182  0.304348 -0.060830   \n",
      "85  0.267222  0.483030  0.303273 -0.101649  0.424397  0.507630  0.434023   \n",
      "\n",
      "          7         8         9   ...        76        77        78        79  \\\n",
      "0   0.823842  0.713395  0.310460  ...  0.463332 -0.021124  0.801060  0.463332   \n",
      "1   0.793052  0.510144  0.242821  ...  0.455573  0.132175  0.658758  0.269202   \n",
      "2   0.647298  0.846651  0.502091  ...  0.631008  0.014384  0.857180  0.631008   \n",
      "3  -0.216957 -0.009969  0.436534  ...  0.032372  0.898820 -0.347003 -0.016186   \n",
      "4   0.679366  0.691939  0.485363  ...  0.413919  0.301941  0.531610  0.413919   \n",
      "..       ...       ...       ...  ...       ...       ...       ...       ...   \n",
      "81  0.443607  0.876457  0.271653  ...  0.529523 -0.021124  0.846835  0.529523   \n",
      "82  0.612372  0.328266  0.437500  ...  0.293151  0.340207  0.368605  0.373101   \n",
      "83  0.572637  0.351615  0.286910  ...  0.407795 -0.156174  0.620437  0.570914   \n",
      "84  0.722315  0.503362  0.405465  ...  0.251478  0.200643  0.304348  0.157174   \n",
      "85  0.572637  0.452077  0.573819  ...  0.734032  0.190879  0.282017  0.489355   \n",
      "\n",
      "          80        81        82        83        84        85  \n",
      "0   0.163033  0.662651  0.543305  0.504753  0.572186  0.267222  \n",
      "1   0.132014  0.467396  0.607054  0.631655  0.372342  0.483030  \n",
      "2   0.280806  0.828621  0.343536  0.545891  0.358457  0.303273  \n",
      "3   0.417436 -0.100172  0.151838 -0.392074  0.145517 -0.101649  \n",
      "4   0.068539  0.559690  0.693375  0.424397  0.695182  0.424397  \n",
      "..       ...       ...       ...       ...       ...       ...  \n",
      "81  0.239754  1.000000  0.155230  0.385987  0.114437  0.267222  \n",
      "82  0.247121  0.155230  1.000000  0.669456  0.626628  0.382546  \n",
      "83  0.165436  0.385987  0.669456  1.000000  0.169210  0.414634  \n",
      "84 -0.091090  0.114437  0.626628  0.169210  1.000000  0.282017  \n",
      "85  0.354507  0.267222  0.382546  0.414634  0.282017  1.000000  \n",
      "\n",
      "[86 rows x 86 columns]\n"
     ]
    }
   ],
   "source": [
    "corr_whisky = pd.DataFrame.corr(flavors.transpose())\n",
    "print(corr_whisky)"
   ]
  },
  {
   "cell_type": "code",
   "execution_count": 29,
   "metadata": {},
   "outputs": [
    {
     "data": {
      "text/plain": [
       "<matplotlib.colorbar.Colorbar at 0x210c32001c0>"
      ]
     },
     "execution_count": 29,
     "metadata": {},
     "output_type": "execute_result"
    },
    {
     "data": {
      "image/png": "[encoded data removed]",
      "text/plain": [
       "<Figure size 720x720 with 2 Axes>"
      ]
     },
     "metadata": {
      "needs_background": "light"
     },
     "output_type": "display_data"
    }
   ],
   "source": [
    "corr_whisky = pd.DataFrame.corr(flavors.transpose())\n",
    "plt.figure(figsize=(10,10))\n",
    "plt.pcolor(corr_whisky)\n",
    "plt.colorbar()"
   ]
  },
  {
   "cell_type": "code",
   "execution_count": 30,
   "metadata": {},
   "outputs": [
    {
     "name": "stdout",
     "output_type": "stream",
     "text": [
      "          0         1         2         3         4         5         6   \\\n",
      "56  0.697097  0.793052  0.647298 -0.216957  0.452911  0.601929  0.589506   \n",
      "57 -0.204157 -0.447100 -0.330173  0.873670  0.022798  0.048479 -0.678258   \n",
      "58 -0.176519 -0.441798 -0.168280  0.846044  0.126155  0.201196 -0.609896   \n",
      "59  0.605408  0.557071  0.533500 -0.174170  0.254514  0.744161  0.449586   \n",
      "\n",
      "          7         8         9   ...        76        77        78        79  \\\n",
      "56  0.777778  0.643268  0.612372  ...  0.783349  0.111111  0.601929  0.696311   \n",
      "57 -0.268462 -0.215866  0.205499  ... -0.192775  0.671156 -0.460547 -0.245350   \n",
      "58 -0.185695 -0.059726  0.284287  ... -0.145464  0.639617 -0.335326 -0.145464   \n",
      "59  0.655610  0.481980  0.401478  ...  0.635851  0.062439  0.642685  0.489116   \n",
      "\n",
      "          80        81        82        83        84        85  \n",
      "56  0.453990  0.443607  0.612372  0.676753  0.481543  0.572637  \n",
      "57  0.264072 -0.331756 -0.041100 -0.628902  0.169675 -0.251561  \n",
      "58  0.252911 -0.247127  0.113715 -0.493013  0.335326 -0.203005  \n",
      "59  0.566934  0.462959  0.315447  0.438810  0.169128  0.614335  \n",
      "\n",
      "[4 rows x 86 columns]\n"
     ]
    }
   ],
   "source": [
    "print(corr_whisky[56:60])"
   ]
  },
  {
   "cell_type": "code",
   "execution_count": 38,
   "metadata": {},
   "outputs": [
    {
     "name": "stdout",
     "output_type": "stream",
     "text": [
      "['Aberfeldy' 'Aberlour' 'AnCnoc' 'Ardbeg' 'Ardmore' 'ArranIsleOf'\n",
      " 'Auchentoshan' 'Auchroisk' 'Aultmore' 'Balblair' 'Balmenach' 'Balvenie'\n",
      " 'BenNevis' 'Benriach' 'Benrinnes' 'Benromach' 'Bladnoch' 'BlairAthol'\n",
      " 'Bowmore' 'Bruichladdich' 'Bunnahabhain' 'Caol Ila' 'Cardhu' 'Clynelish'\n",
      " 'Craigallechie' 'Craigganmore' 'Dailuaine' 'Dalmore' 'Dalwhinnie'\n",
      " 'Deanston' 'Dufftown' 'Edradour' 'GlenDeveronMacduff' 'GlenElgin'\n",
      " 'GlenGarioch' 'GlenGrant' 'GlenKeith' 'GlenMoray' 'GlenOrd' 'GlenScotia'\n",
      " 'GlenSpey' 'Glenallachie' 'Glendronach' 'Glendullan' 'Glenfarclas'\n",
      " 'Glenfiddich' 'Glengoyne' 'Glenkinchie' 'Glenlivet' 'Glenlossie'\n",
      " 'Glenmorangie' 'Glenrothes' 'Glenturret' 'Highland Park' 'Inchgower'\n",
      " 'Isle of Jura' 'Knochando' 'Lagavulin' 'Laphroig' 'Linkwood'\n",
      " 'Loch Lomond' 'Longmorn' 'Macallan' 'Mannochmore' 'Miltonduff' 'Mortlach'\n",
      " 'Oban' 'OldFettercairn' 'OldPulteney' 'RoyalBrackla' 'RoyalLochnagar'\n",
      " 'Scapa' 'Speyburn' 'Speyside' 'Springbank' 'Strathisla' 'Strathmill'\n",
      " 'Talisker' 'Tamdhu' 'Tamnavulin' 'Teaninich' 'Tobermory' 'Tomatin'\n",
      " 'Tomintoul' 'Tormore' 'Tullibardine']\n"
     ]
    }
   ],
   "source": [
    "dists = pd.unique(whisky.loc[:,'Distillery'])\n",
    "print(dists)"
   ]
  },
  {
   "cell_type": "code",
   "execution_count": 46,
   "metadata": {
    "scrolled": true
   },
   "outputs": [
    {
     "name": "stdout",
     "output_type": "stream",
     "text": [
      "   Distillery\n",
      "57  Lagavulin\n",
      "58   Laphroig\n"
     ]
    }
   ],
   "source": [
    "print(whisky.iloc[57:59,1:2])"
   ]
  },
  {
   "cell_type": "code",
   "execution_count": 47,
   "metadata": {},
   "outputs": [
    {
     "name": "stderr",
     "output_type": "stream",
     "text": [
      "C:\\Users\\dydql\\anaconda3\\lib\\site-packages\\sklearn\\utils\\deprecation.py:143: FutureWarning: The sklearn.cluster.bicluster module is  deprecated in version 0.22 and will be removed in version 0.24. The corresponding classes / functions should instead be imported from sklearn.cluster. Anything that cannot be imported from sklearn.cluster is now part of the private API.\n",
      "  warnings.warn(message, FutureWarning)\n"
     ]
    },
    {
     "name": "stdout",
     "output_type": "stream",
     "text": [
      "[[False False False False False False False False False False False False\n",
      "  False False False False False False False  True False False False False\n",
      "  False False False False False False False False False False False False\n",
      "  False False False  True False False False False False False False False\n",
      "  False False False False False False False  True False False False False\n",
      "  False False False False False False  True False  True False False False\n",
      "  False False False False False False False False False False False False\n",
      "  False False]\n",
      " [False False False False False  True False False False False False  True\n",
      "  False  True False False  True False  True False False False False False\n",
      "  False False False False False False False False  True  True  True False\n",
      "  False False  True False  True False False False False  True False  True\n",
      "   True False False False False False  True False False False False  True\n",
      "  False False False False False False False False False  True False False\n",
      "   True False False False False False False False  True False False  True\n",
      "  False  True]\n",
      " [ True False False False  True False False False  True False False False\n",
      "   True False  True  True False  True False False False False False False\n",
      "  False False False False False False False  True False False False  True\n",
      "  False False False False False False False False False False  True False\n",
      "  False False False False False False False False  True False False False\n",
      "  False  True False  True  True False False  True False False False  True\n",
      "  False  True False  True False False  True False False False False False\n",
      "  False False]\n",
      " [False False False  True False False False False False False False False\n",
      "  False False False False False False False False False  True False  True\n",
      "  False False False False False False False False False False False False\n",
      "  False False False False False False False False False False False False\n",
      "  False False False False False False False False False  True  True False\n",
      "  False False False False False False False False False False False False\n",
      "  False False False False False  True False False False False False False\n",
      "  False False]\n",
      " [False  True False False False False False  True False False  True False\n",
      "  False False False False False False False False False False False False\n",
      "  False False  True  True False  True False False False False False False\n",
      "   True False False False False False  True  True  True False False False\n",
      "  False False False  True  True  True False False False False False False\n",
      "  False False  True False False  True False False False False  True False\n",
      "  False False  True False False False False False False False  True False\n",
      "   True False]\n",
      " [False False  True False False False  True False False  True False False\n",
      "  False False False False False False False False  True False  True False\n",
      "   True  True False False  True False  True False False False False False\n",
      "  False  True False False False  True False False False False False False\n",
      "  False  True  True False False False False False False False False False\n",
      "   True False False False False False False False False False False False\n",
      "  False False False False  True False False  True False  True False False\n",
      "  False False]]\n"
     ]
    }
   ],
   "source": [
    "from sklearn.cluster.bicluster import SpectralCoclustering\n",
    "model = SpectralCoclustering(n_clusters=6, random_state=0)\n",
    "model.fit(corr_whisky)\n",
    "print(model.rows_)"
   ]
  },
  {
   "cell_type": "code",
   "execution_count": 48,
   "metadata": {},
   "outputs": [
    {
     "data": {
      "text/plain": [
       "array([2, 4, 5, 3, 2, 1, 5, 4, 2, 5, 4, 1, 2, 1, 2, 2, 1, 2, 1, 0, 5, 3,\n",
       "       5, 3, 5, 5, 4, 4, 5, 4, 5, 2, 1, 1, 1, 2, 4, 5, 1, 0, 1, 5, 4, 4,\n",
       "       4, 1, 2, 1, 1, 5, 5, 4, 4, 4, 1, 0, 2, 3, 3, 1, 5, 2, 4, 2, 2, 4,\n",
       "       0, 2, 0, 1, 4, 2, 1, 2, 4, 2, 5, 3, 2, 5, 1, 5, 4, 1, 4, 1])"
      ]
     },
     "execution_count": 48,
     "metadata": {},
     "output_type": "execute_result"
    }
   ],
   "source": [
    "model.row_labels_"
   ]
  },
  {
   "cell_type": "code",
   "execution_count": 49,
   "metadata": {},
   "outputs": [
    {
     "data": {
      "text/plain": [
       "array([ 5, 20, 19,  6, 19, 17])"
      ]
     },
     "execution_count": 49,
     "metadata": {},
     "output_type": "execute_result"
    }
   ],
   "source": [
    "np.sum(model.rows_, axis=1)"
   ]
  },
  {
   "cell_type": "code",
   "execution_count": 50,
   "metadata": {},
   "outputs": [
    {
     "name": "stdout",
     "output_type": "stream",
     "text": [
      "Speyside        43\n",
      "Highlands       25\n",
      "Islay            7\n",
      "Islands          6\n",
      "Lowlands         3\n",
      "Campbelltown     2\n",
      "Name: Region, dtype: int64\n"
     ]
    }
   ],
   "source": [
    "print(whisky['Region'].value_counts())"
   ]
  },
  {
   "cell_type": "code",
   "execution_count": null,
   "metadata": {},
   "outputs": [],
   "source": []
  }
 ],
 "metadata": {
  "kernelspec": {
   "display_name": "Python 3",
   "language": "python",
   "name": "python3"
  },
  "language_info": {
   "codemirror_mode": {
    "name": "ipython",
    "version": 3
   },
   "file_extension": ".py",
   "mimetype": "text/x-python",
   "name": "python",
   "nbconvert_exporter": "python",
   "pygments_lexer": "ipython3",
   "version": "3.8.10"
  }
 },
 "nbformat": 4,
 "nbformat_minor": 4
}
