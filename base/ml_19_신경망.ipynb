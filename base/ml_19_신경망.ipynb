{
 "cells": [
  {
   "cell_type": "code",
   "execution_count": 5,
   "id": "734b3128",
   "metadata": {},
   "outputs": [],
   "source": [
    "import numpy as np\n",
    "import pandas as pd\n",
    "import matplotlib.pyplot as plt"
   ]
  },
  {
   "cell_type": "code",
   "execution_count": 1,
   "id": "559ace9d",
   "metadata": {},
   "outputs": [],
   "source": [
    "import tensorflow as tf"
   ]
  },
  {
   "cell_type": "code",
   "execution_count": 2,
   "id": "06a98a20",
   "metadata": {},
   "outputs": [],
   "source": [
    "from tensorflow import keras"
   ]
  },
  {
   "cell_type": "code",
   "execution_count": 3,
   "id": "077c6208",
   "metadata": {},
   "outputs": [
    {
     "data": {
      "text/plain": [
       "'2.9.0'"
      ]
     },
     "execution_count": 3,
     "metadata": {},
     "output_type": "execute_result"
    }
   ],
   "source": [
    "tf.__version__"
   ]
  },
  {
   "cell_type": "code",
   "execution_count": 7,
   "id": "4e7347ed",
   "metadata": {},
   "outputs": [],
   "source": [
    "from sklearn.datasets import load_iris\n",
    "iris = load_iris()"
   ]
  },
  {
   "cell_type": "code",
   "execution_count": 8,
   "id": "b61451d0",
   "metadata": {},
   "outputs": [
    {
     "data": {
      "text/plain": [
       "((150, 3), (150,))"
      ]
     },
     "execution_count": 8,
     "metadata": {},
     "output_type": "execute_result"
    }
   ],
   "source": [
    "X = iris.data[:, :3] #속성 3개\n",
    "y = iris.data[:, 3] #petal_width\n",
    "X.shape, y.shape"
   ]
  },
  {
   "cell_type": "code",
   "execution_count": 9,
   "id": "cd761891",
   "metadata": {},
   "outputs": [],
   "source": [
    "model = keras.models.Sequential()\n",
    "model.add(keras.layers.Dense(100, activation='relu', input_shape=(3,))) #input_shape(3,)는 입력층이 3개인것을 뜻함\n",
    "model.add(keras.layers.Dense(10, activation='relu'))\n",
    "model.add(keras.layers.Dense(1))"
   ]
  },
  {
   "cell_type": "code",
   "execution_count": 10,
   "id": "10bc788d",
   "metadata": {},
   "outputs": [
    {
     "name": "stdout",
     "output_type": "stream",
     "text": [
      "Model: \"sequential\"\n",
      "_________________________________________________________________\n",
      " Layer (type)                Output Shape              Param #   \n",
      "=================================================================\n",
      " dense (Dense)               (None, 100)               400       \n",
      "                                                                 \n",
      " dense_1 (Dense)             (None, 10)                1010      \n",
      "                                                                 \n",
      " dense_2 (Dense)             (None, 1)                 11        \n",
      "                                                                 \n",
      "=================================================================\n",
      "Total params: 1,421\n",
      "Trainable params: 1,421\n",
      "Non-trainable params: 0\n",
      "_________________________________________________________________\n"
     ]
    }
   ],
   "source": [
    "model.summary()"
   ]
  },
  {
   "cell_type": "code",
   "execution_count": 11,
   "id": "e17c071d",
   "metadata": {},
   "outputs": [],
   "source": [
    "model.compile(loss='mse', optimizer='adam')"
   ]
  },
  {
   "cell_type": "code",
   "execution_count": 12,
   "id": "bdd0af82",
   "metadata": {},
   "outputs": [
    {
     "name": "stdout",
     "output_type": "stream",
     "text": [
      "Epoch 1/50\n",
      "5/5 [==============================] - 0s 1ms/step - loss: 2.7841\n",
      "Epoch 2/50\n",
      "5/5 [==============================] - 0s 1ms/step - loss: 0.9252\n",
      "Epoch 3/50\n",
      "5/5 [==============================] - 0s 1ms/step - loss: 0.4305\n",
      "Epoch 4/50\n",
      "5/5 [==============================] - 0s 997us/step - loss: 0.2989\n",
      "Epoch 5/50\n",
      "5/5 [==============================] - 0s 1ms/step - loss: 0.2525\n",
      "Epoch 6/50\n",
      "5/5 [==============================] - 0s 1ms/step - loss: 0.2441\n",
      "Epoch 7/50\n",
      "5/5 [==============================] - 0s 997us/step - loss: 0.2487\n",
      "Epoch 8/50\n",
      "5/5 [==============================] - 0s 997us/step - loss: 0.2255\n",
      "Epoch 9/50\n",
      "5/5 [==============================] - 0s 997us/step - loss: 0.2020\n",
      "Epoch 10/50\n",
      "5/5 [==============================] - 0s 997us/step - loss: 0.1813\n",
      "Epoch 11/50\n",
      "5/5 [==============================] - 0s 999us/step - loss: 0.1662\n",
      "Epoch 12/50\n",
      "5/5 [==============================] - 0s 997us/step - loss: 0.1519\n",
      "Epoch 13/50\n",
      "5/5 [==============================] - 0s 748us/step - loss: 0.1377\n",
      "Epoch 14/50\n",
      "5/5 [==============================] - 0s 990us/step - loss: 0.1249\n",
      "Epoch 15/50\n",
      "5/5 [==============================] - 0s 997us/step - loss: 0.1119\n",
      "Epoch 16/50\n",
      "5/5 [==============================] - 0s 996us/step - loss: 0.1009\n",
      "Epoch 17/50\n",
      "5/5 [==============================] - 0s 990us/step - loss: 0.0902\n",
      "Epoch 18/50\n",
      "5/5 [==============================] - 0s 1ms/step - loss: 0.0817\n",
      "Epoch 19/50\n",
      "5/5 [==============================] - 0s 997us/step - loss: 0.0738\n",
      "Epoch 20/50\n",
      "5/5 [==============================] - 0s 1ms/step - loss: 0.0675\n",
      "Epoch 21/50\n",
      "5/5 [==============================] - 0s 992us/step - loss: 0.0620\n",
      "Epoch 22/50\n",
      "5/5 [==============================] - 0s 1ms/step - loss: 0.0575\n",
      "Epoch 23/50\n",
      "5/5 [==============================] - 0s 998us/step - loss: 0.0528\n",
      "Epoch 24/50\n",
      "5/5 [==============================] - 0s 759us/step - loss: 0.0495\n",
      "Epoch 25/50\n",
      "5/5 [==============================] - 0s 997us/step - loss: 0.0484\n",
      "Epoch 26/50\n",
      "5/5 [==============================] - 0s 990us/step - loss: 0.0475\n",
      "Epoch 27/50\n",
      "5/5 [==============================] - 0s 1ms/step - loss: 0.0476\n",
      "Epoch 28/50\n",
      "5/5 [==============================] - 0s 748us/step - loss: 0.0472\n",
      "Epoch 29/50\n",
      "5/5 [==============================] - 0s 1ms/step - loss: 0.0469\n",
      "Epoch 30/50\n",
      "5/5 [==============================] - 0s 1ms/step - loss: 0.0461\n",
      "Epoch 31/50\n",
      "5/5 [==============================] - 0s 754us/step - loss: 0.0461\n",
      "Epoch 32/50\n",
      "5/5 [==============================] - 0s 1ms/step - loss: 0.0458\n",
      "Epoch 33/50\n",
      "5/5 [==============================] - 0s 998us/step - loss: 0.0456\n",
      "Epoch 34/50\n",
      "5/5 [==============================] - 0s 754us/step - loss: 0.0452\n",
      "Epoch 35/50\n",
      "5/5 [==============================] - 0s 1ms/step - loss: 0.0454\n",
      "Epoch 36/50\n",
      "5/5 [==============================] - 0s 997us/step - loss: 0.0448\n",
      "Epoch 37/50\n",
      "5/5 [==============================] - 0s 1ms/step - loss: 0.0449\n",
      "Epoch 38/50\n",
      "5/5 [==============================] - 0s 1ms/step - loss: 0.0446\n",
      "Epoch 39/50\n",
      "5/5 [==============================] - 0s 998us/step - loss: 0.0447\n",
      "Epoch 40/50\n",
      "5/5 [==============================] - 0s 996us/step - loss: 0.0441\n",
      "Epoch 41/50\n",
      "5/5 [==============================] - 0s 1ms/step - loss: 0.0441\n",
      "Epoch 42/50\n",
      "5/5 [==============================] - 0s 755us/step - loss: 0.0442\n",
      "Epoch 43/50\n",
      "5/5 [==============================] - 0s 1ms/step - loss: 0.0438\n",
      "Epoch 44/50\n",
      "5/5 [==============================] - 0s 997us/step - loss: 0.0434\n",
      "Epoch 45/50\n",
      "5/5 [==============================] - 0s 998us/step - loss: 0.0432\n",
      "Epoch 46/50\n",
      "5/5 [==============================] - 0s 1ms/step - loss: 0.0432\n",
      "Epoch 47/50\n",
      "5/5 [==============================] - 0s 997us/step - loss: 0.0430\n",
      "Epoch 48/50\n",
      "5/5 [==============================] - 0s 999us/step - loss: 0.0429\n",
      "Epoch 49/50\n",
      "5/5 [==============================] - 0s 1ms/step - loss: 0.0425\n",
      "Epoch 50/50\n",
      "5/5 [==============================] - 0s 997us/step - loss: 0.0428\n"
     ]
    }
   ],
   "source": [
    "history = model.fit(X, y , epochs=50, batch_size=32)"
   ]
  },
  {
   "cell_type": "code",
   "execution_count": 13,
   "id": "fc2eb022",
   "metadata": {},
   "outputs": [
    {
     "name": "stdout",
     "output_type": "stream",
     "text": [
      "5/5 [==============================] - 0s 748us/step\n"
     ]
    }
   ],
   "source": [
    "y_pred = model.predict(X)"
   ]
  },
  {
   "cell_type": "code",
   "execution_count": 16,
   "id": "a9ac34b3",
   "metadata": {},
   "outputs": [
    {
     "data": {
      "text/plain": [
       "<matplotlib.legend.Legend at 0x19651080460>"
      ]
     },
     "execution_count": 16,
     "metadata": {},
     "output_type": "execute_result"
    },
    {
     "data": {
      "image/png": "[encoded data removed]",
      "text/plain": [
       "<Figure size 432x288 with 1 Axes>"
      ]
     },
     "metadata": {
      "needs_background": "light"
     },
     "output_type": "display_data"
    }
   ],
   "source": [
    "plt.plot(y)\n",
    "plt.plot(y_pred)\n",
    "plt.legend(['y','y_pred'])"
   ]
  },
  {
   "cell_type": "code",
   "execution_count": 15,
   "id": "c41f5580",
   "metadata": {},
   "outputs": [
    {
     "data": {
      "text/plain": [
       "[<matplotlib.lines.Line2D at 0x19651011400>]"
      ]
     },
     "execution_count": 15,
     "metadata": {},
     "output_type": "execute_result"
    },
    {
     "data": {
      "image/png": "[encoded data removed]",
      "text/plain": [
       "<Figure size 432x288 with 1 Axes>"
      ]
     },
     "metadata": {
      "needs_background": "light"
     },
     "output_type": "display_data"
    }
   ],
   "source": [
    "plt.plot(history.history['loss'])"
   ]
  },
  {
   "cell_type": "code",
   "execution_count": 17,
   "id": "f1ff5b6a",
   "metadata": {},
   "outputs": [
    {
     "name": "stdout",
     "output_type": "stream",
     "text": [
      "Downloading data from https://storage.googleapis.com/tensorflow/tf-keras-datasets/mnist.npz\n",
      "11490434/11490434 [==============================] - 0s 0us/step\n"
     ]
    },
    {
     "data": {
      "text/plain": [
       "((60000, 28, 28), (60000,), (10000, 28, 28), (10000,))"
      ]
     },
     "execution_count": 17,
     "metadata": {},
     "output_type": "execute_result"
    }
   ],
   "source": [
    "(X_train, y_train), (X_test, y_test) = keras.datasets.mnist.load_data()\n",
    "X_train.shape, y_train.shape, X_test.shape, y_test.shape"
   ]
  },
  {
   "cell_type": "code",
   "execution_count": 18,
   "id": "fbca6789",
   "metadata": {},
   "outputs": [
    {
     "data": {
      "text/plain": [
       "(255, 0)"
      ]
     },
     "execution_count": 18,
     "metadata": {},
     "output_type": "execute_result"
    }
   ],
   "source": [
    "X_train.max(), X_train.min()"
   ]
  },
  {
   "cell_type": "code",
   "execution_count": 19,
   "id": "11b9dc51",
   "metadata": {},
   "outputs": [
    {
     "data": {
      "text/plain": [
       "<matplotlib.colorbar.Colorbar at 0x196545be9a0>"
      ]
     },
     "execution_count": 19,
     "metadata": {},
     "output_type": "execute_result"
    },
    {
     "data": {
      "image/png": "[encoded data removed]",
      "text/plain": [
       "<Figure size 432x288 with 2 Axes>"
      ]
     },
     "metadata": {
      "needs_background": "light"
     },
     "output_type": "display_data"
    }
   ],
   "source": [
    "plt.imshow(X_train[0], cmap='gray')\n",
    "plt.colorbar()"
   ]
  },
  {
   "cell_type": "code",
   "execution_count": 20,
   "id": "379469fc",
   "metadata": {},
   "outputs": [
    {
     "data": {
      "text/plain": [
       "((60000, 784), (10000, 784))"
      ]
     },
     "execution_count": 20,
     "metadata": {},
     "output_type": "execute_result"
    }
   ],
   "source": [
    "#데이터 전처리\n",
    "X_train = X_train.reshape(-1, 28*28)/255\n",
    "X_test = X_test.reshape(-1, 28*28)/255\n",
    "X_train.shape, X_test.shape"
   ]
  },
  {
   "cell_type": "code",
   "execution_count": 21,
   "id": "7c683bd0",
   "metadata": {},
   "outputs": [
    {
     "data": {
      "text/plain": [
       "((60000, 10), (10000, 10))"
      ]
     },
     "execution_count": 21,
     "metadata": {},
     "output_type": "execute_result"
    }
   ],
   "source": [
    "#원핫인코딩\n",
    "y_train = np.eye(10)[y_train]\n",
    "y_test = np.eye(10)[y_test]\n",
    "y_train.shape, y_test.shape"
   ]
  },
  {
   "cell_type": "code",
   "execution_count": 23,
   "id": "dfe3b5b2",
   "metadata": {},
   "outputs": [],
   "source": [
    "model = keras.models.Sequential()\n",
    "model.add(keras.layers.Dense(100, activation='relu', input_shape=(784,))) #input_shape(3,)는 입력층이 784(픽셀수)개인것을 뜻함\n",
    "model.add(keras.layers.Dense(50, activation='relu'))\n",
    "model.add(keras.layers.Dense(10, activation='softmax')) #10개 클래스로 분류 ->softmax"
   ]
  },
  {
   "cell_type": "code",
   "execution_count": 24,
   "id": "d8d241ae",
   "metadata": {},
   "outputs": [],
   "source": [
    "model.compile(loss='categorical_crossentropy', optimizer='adam', metrics=['acc'])"
   ]
  },
  {
   "cell_type": "code",
   "execution_count": 25,
   "id": "a7f5e02e",
   "metadata": {},
   "outputs": [
    {
     "name": "stdout",
     "output_type": "stream",
     "text": [
      "Epoch 1/20\n",
      "1407/1407 [==============================] - 2s 1ms/step - loss: 0.2884 - acc: 0.9151 - val_loss: 0.1750 - val_acc: 0.9465\n",
      "Epoch 2/20\n",
      "1407/1407 [==============================] - 2s 1ms/step - loss: 0.1250 - acc: 0.9621 - val_loss: 0.1327 - val_acc: 0.9602\n",
      "Epoch 3/20\n",
      "1407/1407 [==============================] - 2s 1ms/step - loss: 0.0886 - acc: 0.9728 - val_loss: 0.1126 - val_acc: 0.9677\n",
      "Epoch 4/20\n",
      "1407/1407 [==============================] - 2s 1ms/step - loss: 0.0664 - acc: 0.9795 - val_loss: 0.1008 - val_acc: 0.9707\n",
      "Epoch 5/20\n",
      "1407/1407 [==============================] - 2s 1ms/step - loss: 0.0515 - acc: 0.9840 - val_loss: 0.1167 - val_acc: 0.9663\n",
      "Epoch 6/20\n",
      "1407/1407 [==============================] - 2s 1ms/step - loss: 0.0418 - acc: 0.9873 - val_loss: 0.1150 - val_acc: 0.9679\n",
      "Epoch 7/20\n",
      "1407/1407 [==============================] - 2s 1ms/step - loss: 0.0335 - acc: 0.9893 - val_loss: 0.1237 - val_acc: 0.9681\n",
      "Epoch 8/20\n",
      "1407/1407 [==============================] - 2s 1ms/step - loss: 0.0282 - acc: 0.9910 - val_loss: 0.1187 - val_acc: 0.9696\n",
      "Epoch 9/20\n",
      "1407/1407 [==============================] - 2s 1ms/step - loss: 0.0233 - acc: 0.9929 - val_loss: 0.1168 - val_acc: 0.9710\n",
      "Epoch 10/20\n",
      "1407/1407 [==============================] - 2s 1ms/step - loss: 0.0210 - acc: 0.9931 - val_loss: 0.1298 - val_acc: 0.9696\n",
      "Epoch 11/20\n",
      "1407/1407 [==============================] - 2s 1ms/step - loss: 0.0184 - acc: 0.9940 - val_loss: 0.1235 - val_acc: 0.9719\n",
      "Epoch 12/20\n",
      "1407/1407 [==============================] - 2s 1ms/step - loss: 0.0174 - acc: 0.9939 - val_loss: 0.1390 - val_acc: 0.9705\n",
      "Epoch 13/20\n",
      "1407/1407 [==============================] - 2s 1ms/step - loss: 0.0136 - acc: 0.9956 - val_loss: 0.1303 - val_acc: 0.9737\n",
      "Epoch 14/20\n",
      "1407/1407 [==============================] - 2s 1ms/step - loss: 0.0135 - acc: 0.9955 - val_loss: 0.1455 - val_acc: 0.9710\n",
      "Epoch 15/20\n",
      "1407/1407 [==============================] - 2s 1ms/step - loss: 0.0151 - acc: 0.9951 - val_loss: 0.1583 - val_acc: 0.9692\n",
      "Epoch 16/20\n",
      "1407/1407 [==============================] - 2s 1ms/step - loss: 0.0104 - acc: 0.9963 - val_loss: 0.1461 - val_acc: 0.9734\n",
      "Epoch 17/20\n",
      "1407/1407 [==============================] - 2s 1ms/step - loss: 0.0112 - acc: 0.9966 - val_loss: 0.1627 - val_acc: 0.9732\n",
      "Epoch 18/20\n",
      "1407/1407 [==============================] - 2s 1ms/step - loss: 0.0121 - acc: 0.9957 - val_loss: 0.1618 - val_acc: 0.9723\n",
      "Epoch 19/20\n",
      "1407/1407 [==============================] - 2s 1ms/step - loss: 0.0097 - acc: 0.9967 - val_loss: 0.1684 - val_acc: 0.9715\n",
      "Epoch 20/20\n",
      "1407/1407 [==============================] - 2s 1ms/step - loss: 0.0111 - acc: 0.9964 - val_loss: 0.1563 - val_acc: 0.9737\n"
     ]
    }
   ],
   "source": [
    "history = model.fit(X_train, y_train, epochs=20, batch_size=32, validation_split=0.25)"
   ]
  },
  {
   "cell_type": "code",
   "execution_count": 38,
   "id": "b2e7b4a4",
   "metadata": {},
   "outputs": [
    {
     "data": {
      "text/plain": [
       "<matplotlib.legend.Legend at 0x1964f4be880>"
      ]
     },
     "execution_count": 38,
     "metadata": {},
     "output_type": "execute_result"
    },
    {
     "data": {
      "image/png": "[encoded data removed]",
      "text/plain": [
       "<Figure size 432x288 with 2 Axes>"
      ]
     },
     "metadata": {
      "needs_background": "light"
     },
     "output_type": "display_data"
    }
   ],
   "source": [
    "plt.subplot(1,2,1)\n",
    "plt.plot(history.history['acc'])\n",
    "plt.plot(history.history['val_acc'])\n",
    "plt.legend(['acc', 'val_acc'])\n",
    "\n",
    "plt.subplot(1,2,2)\n",
    "plt.plot(history.history['loss'])\n",
    "plt.plot(history.history['val_loss'])\n",
    "plt.legend(['loss', 'val_loss'])"
   ]
  },
  {
   "cell_type": "code",
   "execution_count": 39,
   "id": "2690eeec",
   "metadata": {},
   "outputs": [
    {
     "name": "stdout",
     "output_type": "stream",
     "text": [
      "313/313 [==============================] - 0s 689us/step\n"
     ]
    },
    {
     "data": {
      "text/plain": [
       "(10000, 10)"
      ]
     },
     "execution_count": 39,
     "metadata": {},
     "output_type": "execute_result"
    }
   ],
   "source": [
    "y_pred = model.predict(X_test)\n",
    "y_pred.shape"
   ]
  },
  {
   "cell_type": "code",
   "execution_count": 40,
   "id": "34dcf224",
   "metadata": {},
   "outputs": [
    {
     "data": {
      "text/plain": [
       "array([7, 2, 1, 0, 4, 1, 4, 9, 5, 9, 0, 6, 9, 0, 1, 5, 9, 7, 3, 4],\n",
       "      dtype=int64)"
      ]
     },
     "execution_count": 40,
     "metadata": {},
     "output_type": "execute_result"
    }
   ],
   "source": [
    "y_pred[:20].argmax(axis=1)"
   ]
  },
  {
   "cell_type": "code",
   "execution_count": 41,
   "id": "cfcce45a",
   "metadata": {},
   "outputs": [
    {
     "data": {
      "text/plain": [
       "array([7, 2, 1, 0, 4, 1, 4, 9, 5, 9, 0, 6, 9, 0, 1, 5, 9, 7, 3, 4],\n",
       "      dtype=int64)"
      ]
     },
     "execution_count": 41,
     "metadata": {},
     "output_type": "execute_result"
    }
   ],
   "source": [
    "y_test[:20].argmax(axis=1)"
   ]
  },
  {
   "cell_type": "code",
   "execution_count": null,
   "id": "5e205636",
   "metadata": {},
   "outputs": [],
   "source": []
  }
 ],
 "metadata": {
  "kernelspec": {
   "display_name": "Python 3 (ipykernel)",
   "language": "python",
   "name": "python3"
  },
  "language_info": {
   "codemirror_mode": {
    "name": "ipython",
    "version": 3
   },
   "file_extension": ".py",
   "mimetype": "text/x-python",
   "name": "python",
   "nbconvert_exporter": "python",
   "pygments_lexer": "ipython3",
   "version": "3.9.12"
  }
 },
 "nbformat": 4,
 "nbformat_minor": 5
}
